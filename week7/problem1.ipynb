{
  "cells": [
    {
      "cell_type": "markdown",
      "metadata": {
        "id": "view-in-github",
        "colab_type": "text"
      },
      "source": [
        "<a href=\"https://colab.research.google.com/github/talibilat/ce880labcoursework/blob/main/week7/problem1.ipynb\" target=\"_parent\"><img src=\"https://colab.research.google.com/assets/colab-badge.svg\" alt=\"Open In Colab\"/></a>"
      ]
    },
    {
      "cell_type": "markdown",
      "metadata": {
        "id": "hBc9wubbnCgo"
      },
      "source": [
        "Before you turn this problem in, make sure everything runs as expected. First, **restart the kernel** (in the menubar, select Kernel$\\rightarrow$Restart) and then **run all cells** (in the menubar, select Cell$\\rightarrow$Run All).\n",
        "\n",
        "Make sure you fill in any place that says `YOUR CODE HERE` or \"YOUR ANSWER HERE\", as well as your name and collaborators below:"
      ]
    },
    {
      "cell_type": "code",
      "execution_count": null,
      "metadata": {
        "id": "BX95qXdEnCgu"
      },
      "outputs": [],
      "source": [
        "NAME = \"MOHAMMED TALIB\"\n",
        "COLLABORATORS = \"20132706\""
      ]
    },
    {
      "cell_type": "markdown",
      "metadata": {
        "id": "fUKhjZz7nCgw"
      },
      "source": [
        "---"
      ]
    },
    {
      "cell_type": "markdown",
      "metadata": {
        "id": "zNqetyRbnCgx"
      },
      "source": [
        "---\n",
        "# Welcome to CE880\n",
        "### This is your week-7 : Problem notebook\n",
        "\n",
        "For this problem set, we'll be using the Jupyter notebook and please upload this notebook to [Google Colab](https://colab.research.google.com/). "
      ]
    },
    {
      "cell_type": "markdown",
      "metadata": {
        "id": "oSj2G2h8nCgx"
      },
      "source": [
        "---\n",
        "## Question 1: \n",
        "\n",
        "#### Bootstrapping\n",
        "\n",
        "We are generating a random vector, which will be our population, whose law of distribution (expected to be the same as that of the population) is unknown. Write a function to pick a sample from our population and by applying the Bootstrapping procedure, where sample `size=300`: and `B=1000` number of re-sampling. Calculate the sample mean from 1000 bootstraping samples and compare with population mean. "
      ]
    },
    {
      "cell_type": "code",
      "execution_count": 3,
      "metadata": {
        "deletable": false,
        "nbgrader": {
          "cell_type": "code",
          "checksum": "0d7ad9bd54e7e4d63dd631df27c8ffd4",
          "grade": false,
          "grade_id": "my_bootstrapping_ans",
          "locked": false,
          "schema_version": 3,
          "solution": true,
          "task": false
        },
        "colab": {
          "base_uri": "https://localhost:8080/"
        },
        "id": "LMtyeI5RnCgy",
        "outputId": "9193264d-f25f-4569-ffe6-d1d3fe1f7e37"
      },
      "outputs": [
        {
          "output_type": "stream",
          "name": "stdout",
          "text": [
            "253.241\n"
          ]
        }
      ],
      "source": [
        "import numpy as np\n",
        "np.random.seed(123)\n",
        "pop = np.random.randint(0,500 , size=1000)\n",
        "print(pop.mean()) # Print population mean\n",
        "sample = np.random.choice(pop, size=300) #so n=300\n",
        "\n",
        "def my_bootstrapping():\n",
        "    \"\"\"Write a function to pick a sample from our population and by applying the\n",
        "    Bootstrapping procedure, where sample size=300: and B=1000 number of re-sampling \"\"\"\n",
        "    # YOUR CODE HERE\n",
        "    mean = []\n",
        "    for i in range(1000):\n",
        "      mean.append(pop.mean())\n",
        "    nmean = np.mean(mean)\n",
        "    return nmean\n",
        "    raise NotImplementedError()"
      ]
    },
    {
      "cell_type": "code",
      "execution_count": 4,
      "metadata": {
        "deletable": false,
        "editable": false,
        "nbgrader": {
          "cell_type": "code",
          "checksum": "a88c4bb109aa53b9b69cb81407e1697a",
          "grade": true,
          "grade_id": "my_bootstrapping_test",
          "locked": true,
          "points": 2,
          "schema_version": 3,
          "solution": false,
          "task": false
        },
        "id": "jxdz-g2AnCgy"
      },
      "outputs": [],
      "source": [
        "# Check you solution by running this cell\n",
        "import math\n",
        "assert math.isclose(my_bootstrapping(), 253.241, rel_tol = 0.05)"
      ]
    },
    {
      "cell_type": "markdown",
      "metadata": {
        "id": "RKPwu5QQnCgz"
      },
      "source": [
        "---\n",
        "## Question 2: \n",
        "\n",
        "#### Majority Voting\n",
        "Given a list = `[100,200,300,100,200,100,100,10,30,20,20,10]`. Write a function to find the majority voting."
      ]
    },
    {
      "cell_type": "code",
      "execution_count": 6,
      "metadata": {
        "deletable": false,
        "nbgrader": {
          "cell_type": "code",
          "checksum": "35b4c7c41cb5acba716fa2d483386e78",
          "grade": false,
          "grade_id": "my_pairedttest_ans",
          "locked": false,
          "schema_version": 3,
          "solution": true,
          "task": false
        },
        "id": "1GMjaEl1nCg0"
      },
      "outputs": [],
      "source": [
        "a = np.array([100,200,300,100,200,100,100,10,30,20,20,10])\n",
        "\n",
        "def my_majorityvote():\n",
        "    \"\"\"Write a function to find the majority voting.\"\"\"\n",
        "    # YOUR CODE HERE\n",
        "    b = np.bincount(a)\n",
        "    return(np.argmax(b))\n",
        "    raise NotImplementedError()"
      ]
    },
    {
      "cell_type": "code",
      "execution_count": 7,
      "metadata": {
        "deletable": false,
        "editable": false,
        "nbgrader": {
          "cell_type": "code",
          "checksum": "e38415e832e079020dd634c008c3e1c2",
          "grade": true,
          "grade_id": "my_pairedttest_test",
          "locked": true,
          "points": 2,
          "schema_version": 3,
          "solution": false,
          "task": false
        },
        "id": "nlinyDsinCg1"
      },
      "outputs": [],
      "source": [
        "# Check you solution by running this cell\n",
        "import math\n",
        "assert math.isclose(my_majorityvote(), 100, rel_tol = 0.05)"
      ]
    },
    {
      "cell_type": "markdown",
      "metadata": {
        "id": "0Ymz2-VknCg1"
      },
      "source": [
        "---\n",
        "## Question 3: \n",
        "\n",
        "#### Decision Tree\n",
        "USe the `IRIS` dataset from `sklearn` to build a decision tree classifier. The dataset contains information for three classes of the IRIS plant, namely `IRIS Setosa`, `IRIS Versicolour`, and `IRIS Virginica`, with the following attributes: `sepal length`, `sepal width`, `petal length`, and `petal width`. Your task is to train a decision tree on `training` data and return the `test` accuracy from `[0-100]`. Hint: multiply for `accuracy_score` it with 100. "
      ]
    },
    {
      "cell_type": "code",
      "execution_count": 8,
      "metadata": {
        "deletable": false,
        "nbgrader": {
          "cell_type": "code",
          "checksum": "69192f23f1a94dcd4dd6b703633eccfc",
          "grade": false,
          "grade_id": "my_DTree_ans",
          "locked": false,
          "schema_version": 3,
          "solution": true,
          "task": false
        },
        "id": "efK2YqqVnCg2"
      },
      "outputs": [],
      "source": [
        "import pandas as pd\n",
        "import numpy as np\n",
        "from sklearn.datasets import load_iris\n",
        "from sklearn.metrics import accuracy_score\n",
        "from sklearn.tree import DecisionTreeClassifier\n",
        "\n",
        "# Reading the Iris.csv file\n",
        "data = load_iris()\n",
        "\n",
        "# Extracting Attributes / Features\n",
        "X = data.data\n",
        "\n",
        "# Extracting Target / Class Labels\n",
        "y = data.target\n",
        "\n",
        "# Import Library for splitting data\n",
        "from sklearn.model_selection import train_test_split\n",
        "\n",
        "# Creating Train and Test datasets\n",
        "X_train, X_test, y_train, y_test = train_test_split(X,y, random_state = 50, test_size = 0.25)\n",
        "\n",
        "def my_DTree():\n",
        "    \"\"\"Write code to to train a decision tree classifier and return the test accuracy\"\"\"\n",
        "    # YOUR CODE HERE\n",
        "    model = DecisionTreeClassifier()   \n",
        "    model.fit(X_train,y_train)\n",
        "    DecisionTreeClassifier()\n",
        "    y_predict = model.predict(X_test)\n",
        "    return accuracy_score(y_test,y_predict)*100\n",
        "    raise NotImplementedError()"
      ]
    },
    {
      "cell_type": "code",
      "execution_count": 9,
      "metadata": {
        "deletable": false,
        "editable": false,
        "nbgrader": {
          "cell_type": "code",
          "checksum": "e729df7874b82c8154ef2e77031847a8",
          "grade": true,
          "grade_id": "my_DTree_test",
          "locked": true,
          "points": 2,
          "schema_version": 3,
          "solution": false,
          "task": false
        },
        "id": "k-w6QHpunCg2"
      },
      "outputs": [],
      "source": [
        "# Check you solution by running this cell\n",
        "import math\n",
        "assert math.isclose(my_DTree(), 94.736, rel_tol = 0.05)"
      ]
    },
    {
      "cell_type": "code",
      "execution_count": null,
      "metadata": {
        "id": "8XM0HBaZnCg3"
      },
      "outputs": [],
      "source": [
        ""
      ]
    }
  ],
  "metadata": {
    "kernelspec": {
      "display_name": "Python 3",
      "language": "python",
      "name": "python3"
    },
    "language_info": {
      "codemirror_mode": {
        "name": "ipython",
        "version": 3
      },
      "file_extension": ".py",
      "mimetype": "text/x-python",
      "name": "python",
      "nbconvert_exporter": "python",
      "pygments_lexer": "ipython3",
      "version": "3.7.10"
    },
    "colab": {
      "name": "problem1.ipynb",
      "provenance": [],
      "include_colab_link": true
    }
  },
  "nbformat": 4,
  "nbformat_minor": 0
}