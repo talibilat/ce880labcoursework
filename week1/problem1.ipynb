{
  "cells": [
    {
      "cell_type": "markdown",
      "metadata": {
        "id": "FgCOkLckPmJg"
      },
      "source": [
        "Before you turn this problem in, make sure everything runs as expected. First, **restart the kernel** (in the menubar, select Kernel$\\rightarrow$Restart) and then **run all cells** (in the menubar, select Cell$\\rightarrow$Run All).\n",
        "\n",
        "Make sure you fill in any place that says `YOUR CODE HERE` or \"YOUR ANSWER HERE\", as well as your name and collaborators below:"
      ]
    },
    {
      "cell_type": "code",
      "execution_count": null,
      "metadata": {
        "id": "nakRMFqzPmJp"
      },
      "outputs": [],
      "source": [
        "NAME = \"Mohammed Talib\"\n",
        "COLLABORATORS = \"20132706\""
      ]
    },
    {
      "cell_type": "markdown",
      "metadata": {
        "id": "BFKX_yCnPmJs"
      },
      "source": [
        "---"
      ]
    },
    {
      "cell_type": "markdown",
      "metadata": {
        "id": "xGEcQVzQPmJu"
      },
      "source": [
        "---\n",
        "# Welcome to CE880\n",
        "### This is your week-1 : Problem 1 notebook\n",
        "\n",
        "For this problem set, we'll be using the Jupyter notebook and please upload this notebook to [Google Colab](https://colab.research.google.com/). \n"
      ]
    },
    {
      "cell_type": "markdown",
      "metadata": {
        "id": "fMnQiQ16PmJv"
      },
      "source": [
        "---\n",
        "## Question 1:\n",
        "\n",
        "Write a function that calculate the area of the circle by using the formula as `area = 3.14 * r * r`\n",
        "At last, print the area of the cirlce to get the output."
      ]
    },
    {
      "cell_type": "code",
      "execution_count": 1,
      "metadata": {
        "deletable": false,
        "nbgrader": {
          "cell_type": "code",
          "checksum": "47d6468308d125afbbe744bb87c1ea7b",
          "grade": false,
          "grade_id": "areaofCircle_ans",
          "locked": false,
          "schema_version": 3,
          "solution": true
        },
        "id": "3IgnybnCPmJx"
      },
      "outputs": [],
      "source": [
        "\n",
        "def areaofCircle(radius):\n",
        "    \"\"\"Compute the area of squares with side = any number.\n",
        "\n",
        "    \n",
        "    \"\"\"\n",
        "    area = 3.14 * (radius ** 2)\n",
        "    return area\n",
        "    raise NotImplementedError()"
      ]
    },
    {
      "cell_type": "code",
      "execution_count": 3,
      "metadata": {
        "colab": {
          "base_uri": "https://localhost:8080/"
        },
        "id": "qML3ctkRPmJy",
        "outputId": "87cc50af-4db4-43bc-c996-9ba77dbad14e"
      },
      "outputs": [
        {
          "output_type": "execute_result",
          "data": {
            "text/plain": [
              "28.26"
            ]
          },
          "metadata": {},
          "execution_count": 3
        }
      ],
      "source": [
        "areaofCircle(3)"
      ]
    },
    {
      "cell_type": "code",
      "execution_count": 4,
      "metadata": {
        "deletable": false,
        "editable": false,
        "nbgrader": {
          "cell_type": "code",
          "checksum": "0cad513b77217290e64bf5aa6a89b3d4",
          "grade": true,
          "grade_id": "areaofCircle_test",
          "locked": false,
          "points": 1,
          "schema_version": 3,
          "solution": false
        },
        "colab": {
          "base_uri": "https://localhost:8080/",
          "height": 200
        },
        "id": "Iw40Ilf8PmJ0",
        "outputId": "791f35fa-45bf-4591-e4d3-87af0a56ee75"
      },
      "outputs": [
        {
          "output_type": "error",
          "ename": "AssertionError",
          "evalue": "ignored",
          "traceback": [
            "\u001b[0;31m---------------------------------------------------------------------------\u001b[0m",
            "\u001b[0;31mAssertionError\u001b[0m                            Traceback (most recent call last)",
            "\u001b[0;32m<ipython-input-4-2dca79e5167e>\u001b[0m in \u001b[0;36m<module>\u001b[0;34m()\u001b[0m\n\u001b[1;32m      1\u001b[0m \u001b[0;34m\"\"\"Check that squares returns the correct output for several inputs\"\"\"\u001b[0m\u001b[0;34m\u001b[0m\u001b[0;34m\u001b[0m\u001b[0m\n\u001b[0;32m----> 2\u001b[0;31m \u001b[0;32massert\u001b[0m \u001b[0mareaofCircle\u001b[0m\u001b[0;34m(\u001b[0m\u001b[0;36m3\u001b[0m\u001b[0;34m)\u001b[0m \u001b[0;34m==\u001b[0m \u001b[0;36m28.259999999999998\u001b[0m\u001b[0;34m\u001b[0m\u001b[0;34m\u001b[0m\u001b[0m\n\u001b[0m\u001b[1;32m      3\u001b[0m \u001b[0;32massert\u001b[0m \u001b[0mareaofCircle\u001b[0m\u001b[0;34m(\u001b[0m\u001b[0;36m10\u001b[0m\u001b[0;34m)\u001b[0m \u001b[0;34m==\u001b[0m \u001b[0;36m314.0\u001b[0m\u001b[0;34m\u001b[0m\u001b[0;34m\u001b[0m\u001b[0m\n",
            "\u001b[0;31mAssertionError\u001b[0m: "
          ]
        }
      ],
      "source": [
        "\"\"\"Check that squares returns the correct output for several inputs\"\"\"\n",
        "assert areaofCircle(3) == 28.259999999999998\n",
        "assert areaofCircle(10) == 314.0"
      ]
    },
    {
      "cell_type": "markdown",
      "metadata": {
        "id": "kK60DcwyPmJ2"
      },
      "source": [
        "---\n",
        "\n",
        "## Question 2:\n",
        "\n",
        "A `trapezoid` is a quadrilateral with two sides parallel. The `trapezoid` is equivalent to the British definition of the `trapezium`. An isosceles `trapezoid` is a `trapezoid` in which the base angles are equal so\n",
        "\n",
        "<img src=\"https://www.w3resource.com/w3r_images/python-math-image-exercise-3.svg\"\n",
        "     alt=\"Markdown Monster icon\"\n",
        "     style=\"float: left; margin-right: 10px;\" />"
      ]
    },
    {
      "cell_type": "code",
      "execution_count": 5,
      "metadata": {
        "deletable": false,
        "nbgrader": {
          "cell_type": "code",
          "checksum": "0b5eb16a2aa5919b3bd20fa36c29d3c3",
          "grade": false,
          "grade_id": "areaofTrap_ans",
          "locked": false,
          "schema_version": 3,
          "solution": true
        },
        "id": "6vY13E-xPmJ4"
      },
      "outputs": [],
      "source": [
        "def areaofTrap(base1, base2, height):\n",
        "    \"\"\"Compute the sum of the squares of numbers from 1 to n.\"\"\"\n",
        "    area = 0.5*(base1 + base2)*height\n",
        "    return area\n",
        "    raise NotImplementedError()"
      ]
    },
    {
      "cell_type": "code",
      "execution_count": 6,
      "metadata": {
        "colab": {
          "base_uri": "https://localhost:8080/"
        },
        "id": "CeVpjlk1PmJ6",
        "outputId": "375fb0b3-6feb-40da-ec5c-6be763e6f047"
      },
      "outputs": [
        {
          "output_type": "execute_result",
          "data": {
            "text/plain": [
              "-36.0"
            ]
          },
          "metadata": {},
          "execution_count": 6
        }
      ],
      "source": [
        "areaofTrap(5, 3, -9)"
      ]
    },
    {
      "cell_type": "code",
      "execution_count": 7,
      "metadata": {
        "deletable": false,
        "editable": false,
        "nbgrader": {
          "cell_type": "code",
          "checksum": "7e6d21158f33b7baf1aca9e613c4a775",
          "grade": true,
          "grade_id": "areaofTrap_test",
          "locked": false,
          "points": 1,
          "schema_version": 3,
          "solution": false
        },
        "id": "9jK8yv2_PmJ7"
      },
      "outputs": [],
      "source": [
        "\"\"\"Check that areaofTrap returns the correct answer for various inputs.\"\"\"\n",
        "assert areaofTrap(10, 10, 20) == 200.0\n",
        "assert areaofTrap(5, 10, 20) == 150.0\n",
        "assert areaofTrap(5, 3, 5) == 20.0\n",
        "assert areaofTrap(5, 3, -9) == -36.0"
      ]
    },
    {
      "cell_type": "markdown",
      "metadata": {
        "id": "efqRy2sqPmJ8"
      },
      "source": [
        "---\n",
        "## Question 3: \n",
        "\n",
        " Write a Python program to reverse a string. Example: Sample String: `1234xyz` Expected Output: `zyx4321`"
      ]
    },
    {
      "cell_type": "code",
      "execution_count": null,
      "metadata": {
        "deletable": false,
        "nbgrader": {
          "cell_type": "code",
          "checksum": "98cb7a38e7c264c61d0ff0332d879772",
          "grade": false,
          "grade_id": "reversestring_ans",
          "locked": false,
          "schema_version": 3,
          "solution": true,
          "task": false
        },
        "id": "uSl1GMYOPmJ9"
      },
      "outputs": [],
      "source": [
        "def reverse_string(str1):\n",
        "    \"\"\"Write your code here to reverse the string\"\"\"\n",
        "    \n",
        "    # YOUR CODE HERE\n",
        "    raise NotImplementedError()"
      ]
    },
    {
      "cell_type": "code",
      "execution_count": null,
      "metadata": {
        "id": "6cALe9BePmJ-"
      },
      "outputs": [],
      "source": [
        "reverse_string('CE880')"
      ]
    },
    {
      "cell_type": "code",
      "execution_count": null,
      "metadata": {
        "deletable": false,
        "editable": false,
        "nbgrader": {
          "cell_type": "code",
          "checksum": "219d61397ee1726d142cbd4348b06da3",
          "grade": true,
          "grade_id": "reversestring_test",
          "locked": true,
          "points": 1,
          "schema_version": 3,
          "solution": false,
          "task": false
        },
        "id": "HIaNqiKQPmJ_"
      },
      "outputs": [],
      "source": [
        "\"\"\"Check that areaofTrap returns the correct answer for various inputs.\"\"\"\n",
        "assert reverse_string('Colchester') == 'retsehcloC'\n",
        "assert reverse_string('University') == 'ytisrevinU'\n",
        "assert reverse_string('Data Science') == 'ecneicS ataD'\n",
        "assert reverse_string('CE880') == '088EC'"
      ]
    },
    {
      "cell_type": "markdown",
      "metadata": {
        "id": "WscQHoyfPmKA"
      },
      "source": [
        "## Question 4:\n",
        "Write a Python program to print the even numbers from a given list.\n",
        "\n",
        "Sample List : `[1, 2, 3, 4, 6, 7, 8, 9]` Expected Result : `[2, 4, 6, 8]`"
      ]
    },
    {
      "cell_type": "code",
      "execution_count": null,
      "metadata": {
        "deletable": false,
        "nbgrader": {
          "cell_type": "code",
          "checksum": "573c37d40670297aaa0e17563e1ec565",
          "grade": false,
          "grade_id": "even_num_ans",
          "locked": false,
          "schema_version": 3,
          "solution": true,
          "task": false
        },
        "id": "i65DEqfFPmKB"
      },
      "outputs": [],
      "source": [
        "import numpy as np\n",
        "def even_num(lst_1):\n",
        "    \"\"\"Write a Python program to print the even numbers from a given list.\"\"\"\n",
        "    \n",
        "    # YOUR CODE HERE\n",
        "    raise NotImplementedError()"
      ]
    },
    {
      "cell_type": "code",
      "execution_count": null,
      "metadata": {
        "id": "IYRdYHg8PmKB"
      },
      "outputs": [],
      "source": [
        "even_num([2, 3, 14, 17, 8, 19, 11, 14])"
      ]
    },
    {
      "cell_type": "code",
      "execution_count": null,
      "metadata": {
        "deletable": false,
        "editable": false,
        "nbgrader": {
          "cell_type": "code",
          "checksum": "392c6cdc6645dd5c1517c888c8ae9983",
          "grade": true,
          "grade_id": "even_num_test",
          "locked": true,
          "points": 1,
          "schema_version": 3,
          "solution": false,
          "task": false
        },
        "id": "Bs9l_kEHPmKC"
      },
      "outputs": [],
      "source": [
        "assert even_num([1, 2, 3, 4, 6, 7, 8, 9]) == [2, 4, 6, 8]\n",
        "assert even_num([2, 3, 4, 7, 8, 9, 11, 14]) == [2, 4, 8, 14]\n",
        "assert even_num([2, 3, 14, 17, 8, 19, 11, 14]) == [ 2,  8, 14]"
      ]
    },
    {
      "cell_type": "markdown",
      "metadata": {
        "id": "ssyClKOkPmKD"
      },
      "source": [
        "## Question 5:\n",
        "Write a Python function to create and print a list where the values are square of numbers between `1` and `n`, where `n` is user defined number: Example `sqr_values(4) == [1, 4, 9]`"
      ]
    },
    {
      "cell_type": "code",
      "execution_count": null,
      "metadata": {
        "deletable": false,
        "nbgrader": {
          "cell_type": "code",
          "checksum": "5df07d41d1fe24c9357fdc4885a57efd",
          "grade": false,
          "grade_id": "sqr_values_ans",
          "locked": false,
          "schema_version": 3,
          "solution": true,
          "task": false
        },
        "id": "tezn2JMZPmKE"
      },
      "outputs": [],
      "source": [
        "def sqr_values(n):\n",
        "    \"\"\"Write a Python program to print the square of numbers between 1 and `n`\"\"\"\n",
        "    \n",
        "    # YOUR CODE HERE\n",
        "    raise NotImplementedError()"
      ]
    },
    {
      "cell_type": "code",
      "execution_count": null,
      "metadata": {
        "id": "lw6rr6QDPmKE"
      },
      "outputs": [],
      "source": [
        "sqr_values(4)"
      ]
    },
    {
      "cell_type": "code",
      "execution_count": null,
      "metadata": {
        "deletable": false,
        "editable": false,
        "nbgrader": {
          "cell_type": "code",
          "checksum": "f23bc7d9c871aef82903c5edb35a39ec",
          "grade": true,
          "grade_id": "sqr_values_test",
          "locked": true,
          "points": 1,
          "schema_version": 3,
          "solution": false,
          "task": false
        },
        "id": "lmVPoQfVPmKF"
      },
      "outputs": [],
      "source": [
        "\"\"\"Check that sqr_values returns the correct answer for various inputs.\"\"\"\n",
        "assert sqr_values(4) == [1, 4, 9]\n",
        "assert sqr_values(8) == [1, 4, 9, 16, 25, 36, 49]\n",
        "assert sqr_values(9) == [1, 4, 9, 16, 25, 36, 49, 64]\n",
        "assert sqr_values(11) == [1, 4, 9, 16, 25, 36, 49, 64, 81, 100]"
      ]
    },
    {
      "cell_type": "markdown",
      "metadata": {
        "id": "ZogkKwj5PmKG"
      },
      "source": [
        "## Question 6: \n",
        "Write a Python program to generate all permutations of a list in Python.\n",
        "\n",
        "In mathematics, the notion of permutation relates to the act of arranging all the members of a set into some sequence or order, or if the set is already ordered, rearranging (reordering) its elements, a process called permuting. These differ from combinations, which are selections of some members of a set where order is disregarded."
      ]
    },
    {
      "cell_type": "code",
      "execution_count": null,
      "metadata": {
        "deletable": false,
        "nbgrader": {
          "cell_type": "code",
          "checksum": "833c660c87b9fadf69866d77f50a9291",
          "grade": false,
          "grade_id": "cal_days_ans",
          "locked": false,
          "schema_version": 3,
          "solution": true,
          "task": false
        },
        "id": "0gH3aHDWPmKG"
      },
      "outputs": [],
      "source": [
        "import itertools\n",
        "def perm_list(lst):\n",
        "    \"\"\"Write a Python program to calculate number of days between two dates.\"\"\"\n",
        "    # YOUR CODE HERE\n",
        "    raise NotImplementedError()"
      ]
    },
    {
      "cell_type": "code",
      "execution_count": null,
      "metadata": {
        "id": "-3LUKyRAPmKH"
      },
      "outputs": [],
      "source": [
        "perm_list([1,2, 4])"
      ]
    },
    {
      "cell_type": "code",
      "execution_count": null,
      "metadata": {
        "deletable": false,
        "editable": false,
        "nbgrader": {
          "cell_type": "code",
          "checksum": "a6c26f2cf086aef51c944d4707afc484",
          "grade": true,
          "grade_id": "cal_days_test",
          "locked": true,
          "points": 1,
          "schema_version": 3,
          "solution": false,
          "task": false
        },
        "id": "rFZupY7uPmKH"
      },
      "outputs": [],
      "source": [
        "assert perm_list([1,2]) == [(1, 2), (2, 1)]\n",
        "assert perm_list([1,2, 4]) == [(1, 2, 4), (1, 4, 2), (2, 1, 4), (2, 4, 1), (4, 1, 2), (4, 2, 1)]"
      ]
    },
    {
      "cell_type": "code",
      "execution_count": null,
      "metadata": {
        "id": "HSiK8ksJPmKI"
      },
      "outputs": [],
      "source": [
        ""
      ]
    }
  ],
  "metadata": {
    "kernelspec": {
      "display_name": "Python 3",
      "language": "python",
      "name": "python3"
    },
    "language_info": {
      "codemirror_mode": {
        "name": "ipython",
        "version": 3
      },
      "file_extension": ".py",
      "mimetype": "text/x-python",
      "name": "python",
      "nbconvert_exporter": "python",
      "pygments_lexer": "ipython3",
      "version": "3.7.10"
    },
    "colab": {
      "name": "problem1.ipynb",
      "provenance": []
    }
  },
  "nbformat": 4,
  "nbformat_minor": 0
}