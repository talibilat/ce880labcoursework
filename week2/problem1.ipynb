{
 "cells": [
  {
   "cell_type": "markdown",
   "metadata": {},
   "source": [
    "Before you turn this problem in, make sure everything runs as expected. First, **restart the kernel** (in the menubar, select Kernel$\\rightarrow$Restart) and then **run all cells** (in the menubar, select Cell$\\rightarrow$Run All).\n",
    "\n",
    "Make sure you fill in any place that says `YOUR CODE HERE` or \"YOUR ANSWER HERE\", as well as your name and collaborators below:"
   ]
  },
  {
   "cell_type": "code",
   "execution_count": null,
   "metadata": {},
   "outputs": [],
   "source": [
    "NAME = \"\"\n",
    "COLLABORATORS = \"\""
   ]
  },
  {
   "cell_type": "markdown",
   "metadata": {},
   "source": [
    "---"
   ]
  },
  {
   "cell_type": "markdown",
   "metadata": {},
   "source": [
    "---\n",
    "# Welcome to CE880\n",
    "### This is your week-2 : Problem 1 notebook\n",
    "\n",
    "For this problem set, we'll be using the Jupyter notebook and please upload this notebook to [Google Colab](https://colab.research.google.com/). \n"
   ]
  },
  {
   "cell_type": "markdown",
   "metadata": {},
   "source": [
    "---\n",
    "## Question 1:\n",
    "\n",
    "Write a function to pass a list of numbers and return log2 of the array. \n",
    "`Hint`: take input as list and inside the function covert it into numpy array then perform the function. `Example` : input `[1, 4, 8]` and and output should be:  `[0, 2, 3]` "
   ]
  },
  {
   "cell_type": "code",
   "execution_count": null,
   "metadata": {
    "deletable": false,
    "nbgrader": {
     "cell_type": "code",
     "checksum": "03985fd3466b126f93d3e2de75ca8065",
     "grade": false,
     "grade_id": "myLog_ans",
     "locked": false,
     "schema_version": 3,
     "solution": true
    }
   },
   "outputs": [],
   "source": [
    "import numpy as np\n",
    "def myLog(mylist):\n",
    "    \"\"\"Write a function to pass a list of numbers and return log2 of the array. \"\"\"\n",
    "    # YOUR CODE HERE\n",
    "    raise NotImplementedError()"
   ]
  },
  {
   "cell_type": "code",
   "execution_count": null,
   "metadata": {},
   "outputs": [],
   "source": [
    "in_array = [1, 4, 8]\n",
    "myLog(in_array)"
   ]
  },
  {
   "cell_type": "code",
   "execution_count": null,
   "metadata": {
    "deletable": false,
    "editable": false,
    "nbgrader": {
     "cell_type": "code",
     "checksum": "f94cdfb233d60b997688684a67f5027f",
     "grade": true,
     "grade_id": "myLog_test",
     "locked": false,
     "points": 1,
     "schema_version": 3,
     "solution": false
    }
   },
   "outputs": [],
   "source": [
    "\"\"\"Check your output\"\"\"\n",
    "# Test case 1\n",
    "in_array = [1, 3, 5, 10**8]\n",
    "mynplist = np.array([0, 1.5849625, 2.32192809 , 26.57542476])\n",
    "np.allclose(myLog(in_array), mynplist)\n",
    "\n",
    "# Test case 2\n",
    "in_array = in_array = [1, 100, 1000]\n",
    "mynplist = np.array([0., 6.64385619, 9.96578428])\n",
    "np.allclose(myLog(in_array), mynplist)"
   ]
  },
  {
   "cell_type": "markdown",
   "metadata": {},
   "source": [
    "---\n",
    "\n",
    "## Question 2:\n",
    "\n",
    "The Fibonacci numbers are the numbers in the following integer sequence.\n",
    "`[0, 1, 1, 2, 3, 5, 8, 13, 21, 34, 55, 89, 144, ...]`\n",
    "In mathematical terms, the sequence $F_n$ of Fibonacci numbers is defined by the recurrence relation \n",
    "$$\n",
    "F_n = F_n-1 + F_n-2\n",
    "$$\n",
    "with seed values  \n",
    "$$\n",
    " F_0 = 0 \\& F_1 = 1.\n",
    "$$\n",
    "Your task here is to write a code for printing $n^{th}$ Fibonacci number\n",
    "`Example`: Input: `myfibonacci(9)` and Output should be `34`"
   ]
  },
  {
   "cell_type": "code",
   "execution_count": null,
   "metadata": {
    "deletable": false,
    "nbgrader": {
     "cell_type": "code",
     "checksum": "f133cbe1fe662f2a7a1a9e535f2e6f98",
     "grade": false,
     "grade_id": "myfibonacci_ans",
     "locked": false,
     "schema_version": 3,
     "solution": true
    }
   },
   "outputs": [],
   "source": [
    "def myfibonacci(n):\n",
    "    \"\"\"Function for nth Fibonacci number\"\"\"\n",
    "    # YOUR CODE HERE\n",
    "    raise NotImplementedError()"
   ]
  },
  {
   "cell_type": "code",
   "execution_count": null,
   "metadata": {},
   "outputs": [],
   "source": [
    "myfibonacci(0)"
   ]
  },
  {
   "cell_type": "code",
   "execution_count": null,
   "metadata": {
    "deletable": false,
    "editable": false,
    "nbgrader": {
     "cell_type": "code",
     "checksum": "f0bc0bbe751480b5be043942d1cf6541",
     "grade": true,
     "grade_id": "myfibonacci_test",
     "locked": false,
     "points": 1,
     "schema_version": 3,
     "solution": false
    }
   },
   "outputs": [],
   "source": [
    "\"\"\"Check that correct fibonacci number\"\"\"\n",
    "assert myfibonacci(9) == 34\n",
    "assert myfibonacci(7) == 13\n",
    "assert myfibonacci(1) == 1\n",
    "assert myfibonacci(0) == 0"
   ]
  },
  {
   "cell_type": "markdown",
   "metadata": {},
   "source": [
    "---\n",
    "## Question 3: \n",
    "\n",
    " Write a program, which accept 2D array with `nan` and replace all `nan` with `-5`.  "
   ]
  },
  {
   "cell_type": "code",
   "execution_count": null,
   "metadata": {
    "deletable": false,
    "nbgrader": {
     "cell_type": "code",
     "checksum": "ff801e0967df688b2d8d7a4d4d0c72e3",
     "grade": false,
     "grade_id": "rem_Nan_ans",
     "locked": false,
     "schema_version": 3,
     "solution": true,
     "task": false
    }
   },
   "outputs": [],
   "source": [
    "import numpy as no\n",
    "def rem_Nan(A):\n",
    "    \"\"\"Write a program, which accept 2D array with nan and replace all nan with -10\"\"\"\n",
    "    \n",
    "    # YOUR CODE HERE\n",
    "    raise NotImplementedError()"
   ]
  },
  {
   "cell_type": "code",
   "execution_count": null,
   "metadata": {},
   "outputs": [],
   "source": [
    "arr1 = np.array([[1,2,3],[3,np.nan,3]])\n",
    "arr2 = np.array([[1,2,3],[3,-5,3]])\n",
    "\n",
    "assert np.allclose(rem_Nan(arr1), arr2)"
   ]
  },
  {
   "cell_type": "code",
   "execution_count": null,
   "metadata": {
    "deletable": false,
    "editable": false,
    "nbgrader": {
     "cell_type": "code",
     "checksum": "c4a8685c52c312a9724805329e1109c0",
     "grade": true,
     "grade_id": "rem_Nan_test",
     "locked": true,
     "points": 1,
     "schema_version": 3,
     "solution": false,
     "task": false
    }
   },
   "outputs": [],
   "source": [
    "\"\"\"Check your output\"\"\"\n",
    "# Test Case 1\n",
    "arr1 = np.array([[1,5,3],[3,np.nan,3]])\n",
    "arr2 = np.array([[1,5,3],[3,-5,3]])\n",
    "assert np.allclose(rem_Nan(arr1), arr2)\n",
    "\n",
    "# Test Case 2\n",
    "arr3 = np.array([[np.nan,2,np.nan],[3,np.nan,3]])\n",
    "arr4 = np.array([[-5,2,-5],[3,-5,3]])\n",
    "assert np.allclose(rem_Nan(arr3), arr4)"
   ]
  },
  {
   "cell_type": "markdown",
   "metadata": {},
   "source": [
    "## Pandas Data Frame \n"
   ]
  },
  {
   "cell_type": "code",
   "execution_count": null,
   "metadata": {},
   "outputs": [],
   "source": [
    "# Please make sure if pandas is installed and if not then run the this cell otherwise skip\n",
    "!pip install pandas"
   ]
  },
  {
   "cell_type": "markdown",
   "metadata": {},
   "source": [
    "#### Let's create a Toy Data for rest of the 3 questions"
   ]
  },
  {
   "cell_type": "code",
   "execution_count": null,
   "metadata": {},
   "outputs": [],
   "source": [
    "import numpy as np\n",
    "import pandas as pd\n",
    "exam_data  = {'name': ['Adam', 'Jo', 'Jack', 'Hugo', 'Amit', 'Messi', 'Jordan', 'Laura', 'Kevin', 'Jonas'],\n",
    "        'score': [72.5, 59, 66.5, np.nan, 59, 80, 84.5, np.nan, 82, 49],\n",
    "        'attempts': [1, 3, 2, 3, 2, 3, 1, 1, 2, 1],\n",
    "        'qualify': ['yes', 'no', 'yes', 'no', 'no', 'yes', 'yes', 'no', 'no', 'yes']}\n",
    "labels = ['a', 'b', 'c', 'd', 'e', 'f', 'g', 'h', 'i', 'j']\n",
    "df = pd.DataFrame(exam_data , index=labels)\n",
    "df"
   ]
  },
  {
   "cell_type": "markdown",
   "metadata": {},
   "source": [
    "---\n",
    "## Question 4:\n",
    "\n",
    "Write a Pandas program to display students names, where number of attempts in the examination is greater than 2 and score less than 80."
   ]
  },
  {
   "cell_type": "code",
   "execution_count": null,
   "metadata": {
    "deletable": false,
    "nbgrader": {
     "cell_type": "code",
     "checksum": "9b28c77b558ad9f5336dedeaf918a99c",
     "grade": false,
     "grade_id": "filter_1_ans",
     "locked": false,
     "schema_version": 3,
     "solution": true,
     "task": false
    }
   },
   "outputs": [],
   "source": [
    "def filter_1():\n",
    "    \"\"\"Write a Pandas program to display students names, where number of attempts \n",
    "    in the examination is greater than 2 and score less than 80.\"\"\"\n",
    "    \n",
    "    # YOUR CODE HERE\n",
    "    raise NotImplementedError()"
   ]
  },
  {
   "cell_type": "code",
   "execution_count": null,
   "metadata": {
    "deletable": false,
    "editable": false,
    "nbgrader": {
     "cell_type": "code",
     "checksum": "632927fdb6e4d86741cfc3d8c5d246ed",
     "grade": true,
     "grade_id": "filter_1_test",
     "locked": true,
     "points": 1,
     "schema_version": 3,
     "solution": false,
     "task": false
    }
   },
   "outputs": [],
   "source": [
    "\"\"\"Check your output\"\"\"\n",
    "assert filter_1() == ['Jo']"
   ]
  },
  {
   "cell_type": "markdown",
   "metadata": {},
   "source": [
    "## Question 5\n",
    "\n",
    "Write a Pandas program to display the average score. `Hint`: Please replace `NaN` values with `0` before calcualting average. "
   ]
  },
  {
   "cell_type": "code",
   "execution_count": null,
   "metadata": {
    "deletable": false,
    "nbgrader": {
     "cell_type": "code",
     "checksum": "4bfeab64b5a75bc462c9c752772392fe",
     "grade": false,
     "grade_id": "score_ans",
     "locked": false,
     "schema_version": 3,
     "solution": true,
     "task": false
    }
   },
   "outputs": [],
   "source": [
    "import itertools\n",
    "def score():\n",
    "    \"\"\"Write a Python program to calculate average score and replace NaN values by 0\"\"\"\n",
    "    # YOUR CODE HERE\n",
    "    raise NotImplementedError()"
   ]
  },
  {
   "cell_type": "code",
   "execution_count": null,
   "metadata": {
    "deletable": false,
    "editable": false,
    "nbgrader": {
     "cell_type": "code",
     "checksum": "56b75c407f29411625f44176344ebb3a",
     "grade": true,
     "grade_id": "score_test",
     "locked": true,
     "points": 1,
     "schema_version": 3,
     "solution": false,
     "task": false
    }
   },
   "outputs": [],
   "source": [
    "\"\"\"Check your output\"\"\"\n",
    "assert score() == 55.250000"
   ]
  },
  {
   "cell_type": "markdown",
   "metadata": {},
   "source": [
    "---\n",
    "## Question 6:\n",
    "\n",
    "\n",
    "Write a function to calculate the `mean` and `standard deviation` of the examination `attempts`. `Hint`: You can use NumPy aggregate functions and return as a values. Create a list and append value to it and return the output."
   ]
  },
  {
   "cell_type": "code",
   "execution_count": null,
   "metadata": {
    "deletable": false,
    "nbgrader": {
     "cell_type": "code",
     "checksum": "a658c2020824dbf3a48058b1160431a3",
     "grade": false,
     "grade_id": "stats_ans",
     "locked": false,
     "schema_version": 3,
     "solution": true,
     "task": false
    }
   },
   "outputs": [],
   "source": [
    "def stats():\n",
    "    \"\"\"Write a Pandas program to calculate `mean` and `standard deviation` of the examination\n",
    "    attempts by the students.\"\"\"\n",
    "    # YOUR CODE HERE\n",
    "    raise NotImplementedError()"
   ]
  },
  {
   "cell_type": "code",
   "execution_count": null,
   "metadata": {
    "deletable": false,
    "editable": false,
    "nbgrader": {
     "cell_type": "code",
     "checksum": "a3f21f0e86babfc209bb047557e93f74",
     "grade": true,
     "grade_id": "stats_test",
     "locked": true,
     "points": 1,
     "schema_version": 3,
     "solution": false,
     "task": false
    }
   },
   "outputs": [],
   "source": [
    "\"\"\"Check your output\"\"\"\n",
    "# Test case\n",
    "output = np.array([1.9, 0.8755950357709131])\n",
    "np.allclose(stats(), output)\n"
   ]
  }
 ],
 "metadata": {
  "kernelspec": {
   "display_name": "Python 3",
   "language": "python",
   "name": "python3"
  },
  "language_info": {
   "codemirror_mode": {
    "name": "ipython",
    "version": 3
   },
   "file_extension": ".py",
   "mimetype": "text/x-python",
   "name": "python",
   "nbconvert_exporter": "python",
   "pygments_lexer": "ipython3",
   "version": "3.7.10"
  }
 },
 "nbformat": 4,
 "nbformat_minor": 1
}
