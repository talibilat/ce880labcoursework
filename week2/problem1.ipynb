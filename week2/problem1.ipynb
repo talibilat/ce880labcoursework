{
  "cells": [
    {
      "cell_type": "markdown",
      "metadata": {
        "id": "vie05HX958LW"
      },
      "source": [
        "Before you turn this problem in, make sure everything runs as expected. First, **restart the kernel** (in the menubar, select Kernel$\\rightarrow$Restart) and then **run all cells** (in the menubar, select Cell$\\rightarrow$Run All).\n",
        "\n",
        "Make sure you fill in any place that says `YOUR CODE HERE` or \"YOUR ANSWER HERE\", as well as your name and collaborators below:"
      ]
    },
    {
      "cell_type": "code",
      "execution_count": null,
      "metadata": {
        "id": "bNomSIQU58LY"
      },
      "outputs": [],
      "source": [
        "NAME = \"\"\n",
        "COLLABORATORS = \"\""
      ]
    },
    {
      "cell_type": "markdown",
      "metadata": {
        "id": "pD3mLCcS58LY"
      },
      "source": [
        "---"
      ]
    },
    {
      "cell_type": "markdown",
      "metadata": {
        "id": "y1QSilH958LZ"
      },
      "source": [
        "---\n",
        "# Welcome to CE880\n",
        "### This is your week-2 : Problem 1 notebook\n",
        "\n",
        "For this problem set, we'll be using the Jupyter notebook and please upload this notebook to [Google Colab](https://colab.research.google.com/). \n"
      ]
    },
    {
      "cell_type": "markdown",
      "metadata": {
        "id": "gARdN3sn58LZ"
      },
      "source": [
        "---\n",
        "## Question 1:\n",
        "\n",
        "Write a function to pass a list of numbers and return log2 of the array. \n",
        "`Hint`: take input as list and inside the function covert it into numpy array then perform the function. `Example` : input `[1, 4, 8]` and and output should be:  `[0, 2, 3]` "
      ]
    },
    {
      "cell_type": "code",
      "execution_count": 10,
      "metadata": {
        "deletable": false,
        "nbgrader": {
          "cell_type": "code",
          "checksum": "03985fd3466b126f93d3e2de75ca8065",
          "grade": false,
          "grade_id": "myLog_ans",
          "locked": false,
          "schema_version": 3,
          "solution": true
        },
        "id": "kcMa9rSn58LZ"
      },
      "outputs": [],
      "source": [
        "import numpy as np\n",
        "def myLog(mylist):\n",
        "    \"\"\"Write a function to pass a list of numbers and return log2 of the array. \"\"\"\n",
        "    mylist = np.array(mylist)\n",
        "    return np.log2(mylist)\n",
        "    raise NotImplementedError()"
      ]
    },
    {
      "cell_type": "code",
      "execution_count": 11,
      "metadata": {
        "id": "JCqzwYux58LZ",
        "outputId": "cce5f75b-78ed-484d-aad7-2e0edf501b8a",
        "colab": {
          "base_uri": "https://localhost:8080/"
        }
      },
      "outputs": [
        {
          "output_type": "execute_result",
          "data": {
            "text/plain": [
              "array([0., 2., 3.])"
            ]
          },
          "metadata": {},
          "execution_count": 11
        }
      ],
      "source": [
        "in_array = [1, 4, 8]\n",
        "myLog(in_array)"
      ]
    },
    {
      "cell_type": "code",
      "execution_count": 12,
      "metadata": {
        "deletable": false,
        "editable": false,
        "nbgrader": {
          "cell_type": "code",
          "checksum": "f94cdfb233d60b997688684a67f5027f",
          "grade": true,
          "grade_id": "myLog_test",
          "locked": false,
          "points": 1,
          "schema_version": 3,
          "solution": false
        },
        "id": "JQrUDg6j58LZ",
        "outputId": "09debff2-3bca-480f-9238-d7e0f60936df",
        "colab": {
          "base_uri": "https://localhost:8080/"
        }
      },
      "outputs": [
        {
          "output_type": "execute_result",
          "data": {
            "text/plain": [
              "True"
            ]
          },
          "metadata": {},
          "execution_count": 12
        }
      ],
      "source": [
        "\"\"\"Check your output\"\"\"\n",
        "# Test case 1\n",
        "in_array = [1, 3, 5, 10**8]\n",
        "mynplist = np.array([0, 1.5849625, 2.32192809 , 26.57542476])\n",
        "np.allclose(myLog(in_array), mynplist)\n",
        "\n",
        "# Test case 2\n",
        "in_array = in_array = [1, 100, 1000]\n",
        "mynplist = np.array([0., 6.64385619, 9.96578428])\n",
        "np.allclose(myLog(in_array), mynplist)"
      ]
    },
    {
      "cell_type": "markdown",
      "metadata": {
        "id": "DGTEAQvZ58La"
      },
      "source": [
        "---\n",
        "\n",
        "## Question 2:\n",
        "\n",
        "The Fibonacci numbers are the numbers in the following integer sequence.\n",
        "`[0, 1, 1, 2, 3, 5, 8, 13, 21, 34, 55, 89, 144, ...]`\n",
        "In mathematical terms, the sequence $F_n$ of Fibonacci numbers is defined by the recurrence relation \n",
        "$$\n",
        "F_n = F_n-1 + F_n-2\n",
        "$$\n",
        "with seed values  \n",
        "$$\n",
        " F_0 = 0 \\& F_1 = 1.\n",
        "$$\n",
        "Your task here is to write a code for printing $n^{th}$ Fibonacci number\n",
        "`Example`: Input: `myfibonacci(9)` and Output should be `34`"
      ]
    },
    {
      "cell_type": "code",
      "execution_count": 50,
      "metadata": {
        "deletable": false,
        "nbgrader": {
          "cell_type": "code",
          "checksum": "f133cbe1fe662f2a7a1a9e535f2e6f98",
          "grade": false,
          "grade_id": "myfibonacci_ans",
          "locked": false,
          "schema_version": 3,
          "solution": true
        },
        "id": "PU4v_rKm58La"
      },
      "outputs": [],
      "source": [
        "def myfibonacci(n):\n",
        "    \"\"\"Function for nth Fibonacci number\"\"\"\n",
        "    if n < 2:\n",
        "        return n\n",
        "    return myfibonacci(n-2) + myfibonacci(n-1)\n",
        "    raise NotImplementedError()"
      ]
    },
    {
      "cell_type": "code",
      "execution_count": 51,
      "metadata": {
        "id": "5HxEBZsU58La",
        "outputId": "6f48cee2-b6ec-4475-8e49-8cc17088fdee",
        "colab": {
          "base_uri": "https://localhost:8080/"
        }
      },
      "outputs": [
        {
          "output_type": "execute_result",
          "data": {
            "text/plain": [
              "34"
            ]
          },
          "metadata": {},
          "execution_count": 51
        }
      ],
      "source": [
        "myfibonacci(9)\n"
      ]
    },
    {
      "cell_type": "code",
      "execution_count": 52,
      "metadata": {
        "deletable": false,
        "editable": false,
        "nbgrader": {
          "cell_type": "code",
          "checksum": "f0bc0bbe751480b5be043942d1cf6541",
          "grade": true,
          "grade_id": "myfibonacci_test",
          "locked": false,
          "points": 1,
          "schema_version": 3,
          "solution": false
        },
        "id": "KGo7e2ea58Lb"
      },
      "outputs": [],
      "source": [
        "\"\"\"Check that correct fibonacci number\"\"\"\n",
        "assert myfibonacci(9) == 34\n",
        "assert myfibonacci(7) == 13\n",
        "assert myfibonacci(1) == 1\n",
        "assert myfibonacci(0) == 0"
      ]
    },
    {
      "cell_type": "markdown",
      "metadata": {
        "id": "lMuy2_DE58Lb"
      },
      "source": [
        "---\n",
        "## Question 3: \n",
        "\n",
        " Write a program, which accept 2D array with `nan` and replace all `nan` with `-5`.  "
      ]
    },
    {
      "cell_type": "code",
      "execution_count": 67,
      "metadata": {
        "deletable": false,
        "nbgrader": {
          "cell_type": "code",
          "checksum": "ff801e0967df688b2d8d7a4d4d0c72e3",
          "grade": false,
          "grade_id": "rem_Nan_ans",
          "locked": false,
          "schema_version": 3,
          "solution": true,
          "task": false
        },
        "id": "CW8UNEUu58Lb"
      },
      "outputs": [],
      "source": [
        "import numpy as np\n",
        "def rem_Nan(A):\n",
        "  \"\"\"Write a program, which accept 2D array with nan and replace all nan with -10\"\"\"\n",
        "  A[np.isnan(A)] = -5\n",
        "  return A\n",
        "  raise NotImplementedError()"
      ]
    },
    {
      "cell_type": "code",
      "execution_count": 68,
      "metadata": {
        "id": "yBdGgTDi58Lc"
      },
      "outputs": [],
      "source": [
        "arr1 = np.array([[1,2,3],[3,np.nan,3]])\n",
        "arr2 = np.array([[1,2,3],[3,-5,3]])\n",
        "\n",
        "assert np.allclose(rem_Nan(arr1), arr2)"
      ]
    },
    {
      "cell_type": "code",
      "execution_count": 69,
      "metadata": {
        "deletable": false,
        "editable": false,
        "nbgrader": {
          "cell_type": "code",
          "checksum": "c4a8685c52c312a9724805329e1109c0",
          "grade": true,
          "grade_id": "rem_Nan_test",
          "locked": true,
          "points": 1,
          "schema_version": 3,
          "solution": false,
          "task": false
        },
        "id": "9A4LR_v258Lc"
      },
      "outputs": [],
      "source": [
        "\"\"\"Check your output\"\"\"\n",
        "# Test Case 1\n",
        "arr1 = np.array([[1,5,3],[3,np.nan,3]])\n",
        "arr2 = np.array([[1,5,3],[3,-5,3]])\n",
        "assert np.allclose(rem_Nan(arr1), arr2)\n",
        "\n",
        "# Test Case 2\n",
        "arr3 = np.array([[np.nan,2,np.nan],[3,np.nan,3]])\n",
        "arr4 = np.array([[-5,2,-5],[3,-5,3]])\n",
        "assert np.allclose(rem_Nan(arr3), arr4)"
      ]
    },
    {
      "cell_type": "markdown",
      "metadata": {
        "id": "_wH0irZV58Ld"
      },
      "source": [
        "## Pandas Data Frame \n"
      ]
    },
    {
      "cell_type": "code",
      "execution_count": null,
      "metadata": {
        "id": "QOZOnuMa58Ld"
      },
      "outputs": [],
      "source": [
        "# Please make sure if pandas is installed and if not then run the this cell otherwise skip\n",
        "!pip install pandas"
      ]
    },
    {
      "cell_type": "markdown",
      "metadata": {
        "id": "GIyC0AuC58Ld"
      },
      "source": [
        "#### Let's create a Toy Data for rest of the 3 questions"
      ]
    },
    {
      "cell_type": "code",
      "execution_count": 91,
      "metadata": {
        "id": "kqKdYCYX58Ld",
        "outputId": "55e5b6a8-c139-4b4f-8bb4-986ca3019c58",
        "colab": {
          "base_uri": "https://localhost:8080/",
          "height": 363
        }
      },
      "outputs": [
        {
          "output_type": "execute_result",
          "data": {
            "text/html": [
              "\n",
              "  <div id=\"df-fba63347-cddf-49ff-9f83-2ed1a16f5073\">\n",
              "    <div class=\"colab-df-container\">\n",
              "      <div>\n",
              "<style scoped>\n",
              "    .dataframe tbody tr th:only-of-type {\n",
              "        vertical-align: middle;\n",
              "    }\n",
              "\n",
              "    .dataframe tbody tr th {\n",
              "        vertical-align: top;\n",
              "    }\n",
              "\n",
              "    .dataframe thead th {\n",
              "        text-align: right;\n",
              "    }\n",
              "</style>\n",
              "<table border=\"1\" class=\"dataframe\">\n",
              "  <thead>\n",
              "    <tr style=\"text-align: right;\">\n",
              "      <th></th>\n",
              "      <th>name</th>\n",
              "      <th>score</th>\n",
              "      <th>attempts</th>\n",
              "      <th>qualify</th>\n",
              "    </tr>\n",
              "  </thead>\n",
              "  <tbody>\n",
              "    <tr>\n",
              "      <th>a</th>\n",
              "      <td>Adam</td>\n",
              "      <td>72.5</td>\n",
              "      <td>1</td>\n",
              "      <td>yes</td>\n",
              "    </tr>\n",
              "    <tr>\n",
              "      <th>b</th>\n",
              "      <td>Jo</td>\n",
              "      <td>59.0</td>\n",
              "      <td>3</td>\n",
              "      <td>no</td>\n",
              "    </tr>\n",
              "    <tr>\n",
              "      <th>c</th>\n",
              "      <td>Jack</td>\n",
              "      <td>66.5</td>\n",
              "      <td>2</td>\n",
              "      <td>yes</td>\n",
              "    </tr>\n",
              "    <tr>\n",
              "      <th>d</th>\n",
              "      <td>Hugo</td>\n",
              "      <td>NaN</td>\n",
              "      <td>3</td>\n",
              "      <td>no</td>\n",
              "    </tr>\n",
              "    <tr>\n",
              "      <th>e</th>\n",
              "      <td>Amit</td>\n",
              "      <td>59.0</td>\n",
              "      <td>2</td>\n",
              "      <td>no</td>\n",
              "    </tr>\n",
              "    <tr>\n",
              "      <th>f</th>\n",
              "      <td>Messi</td>\n",
              "      <td>80.0</td>\n",
              "      <td>3</td>\n",
              "      <td>yes</td>\n",
              "    </tr>\n",
              "    <tr>\n",
              "      <th>g</th>\n",
              "      <td>Jordan</td>\n",
              "      <td>84.5</td>\n",
              "      <td>1</td>\n",
              "      <td>yes</td>\n",
              "    </tr>\n",
              "    <tr>\n",
              "      <th>h</th>\n",
              "      <td>Laura</td>\n",
              "      <td>NaN</td>\n",
              "      <td>1</td>\n",
              "      <td>no</td>\n",
              "    </tr>\n",
              "    <tr>\n",
              "      <th>i</th>\n",
              "      <td>Kevin</td>\n",
              "      <td>82.0</td>\n",
              "      <td>2</td>\n",
              "      <td>no</td>\n",
              "    </tr>\n",
              "    <tr>\n",
              "      <th>j</th>\n",
              "      <td>Jonas</td>\n",
              "      <td>49.0</td>\n",
              "      <td>1</td>\n",
              "      <td>yes</td>\n",
              "    </tr>\n",
              "  </tbody>\n",
              "</table>\n",
              "</div>\n",
              "      <button class=\"colab-df-convert\" onclick=\"convertToInteractive('df-fba63347-cddf-49ff-9f83-2ed1a16f5073')\"\n",
              "              title=\"Convert this dataframe to an interactive table.\"\n",
              "              style=\"display:none;\">\n",
              "        \n",
              "  <svg xmlns=\"http://www.w3.org/2000/svg\" height=\"24px\"viewBox=\"0 0 24 24\"\n",
              "       width=\"24px\">\n",
              "    <path d=\"M0 0h24v24H0V0z\" fill=\"none\"/>\n",
              "    <path d=\"M18.56 5.44l.94 2.06.94-2.06 2.06-.94-2.06-.94-.94-2.06-.94 2.06-2.06.94zm-11 1L8.5 8.5l.94-2.06 2.06-.94-2.06-.94L8.5 2.5l-.94 2.06-2.06.94zm10 10l.94 2.06.94-2.06 2.06-.94-2.06-.94-.94-2.06-.94 2.06-2.06.94z\"/><path d=\"M17.41 7.96l-1.37-1.37c-.4-.4-.92-.59-1.43-.59-.52 0-1.04.2-1.43.59L10.3 9.45l-7.72 7.72c-.78.78-.78 2.05 0 2.83L4 21.41c.39.39.9.59 1.41.59.51 0 1.02-.2 1.41-.59l7.78-7.78 2.81-2.81c.8-.78.8-2.07 0-2.86zM5.41 20L4 18.59l7.72-7.72 1.47 1.35L5.41 20z\"/>\n",
              "  </svg>\n",
              "      </button>\n",
              "      \n",
              "  <style>\n",
              "    .colab-df-container {\n",
              "      display:flex;\n",
              "      flex-wrap:wrap;\n",
              "      gap: 12px;\n",
              "    }\n",
              "\n",
              "    .colab-df-convert {\n",
              "      background-color: #E8F0FE;\n",
              "      border: none;\n",
              "      border-radius: 50%;\n",
              "      cursor: pointer;\n",
              "      display: none;\n",
              "      fill: #1967D2;\n",
              "      height: 32px;\n",
              "      padding: 0 0 0 0;\n",
              "      width: 32px;\n",
              "    }\n",
              "\n",
              "    .colab-df-convert:hover {\n",
              "      background-color: #E2EBFA;\n",
              "      box-shadow: 0px 1px 2px rgba(60, 64, 67, 0.3), 0px 1px 3px 1px rgba(60, 64, 67, 0.15);\n",
              "      fill: #174EA6;\n",
              "    }\n",
              "\n",
              "    [theme=dark] .colab-df-convert {\n",
              "      background-color: #3B4455;\n",
              "      fill: #D2E3FC;\n",
              "    }\n",
              "\n",
              "    [theme=dark] .colab-df-convert:hover {\n",
              "      background-color: #434B5C;\n",
              "      box-shadow: 0px 1px 3px 1px rgba(0, 0, 0, 0.15);\n",
              "      filter: drop-shadow(0px 1px 2px rgba(0, 0, 0, 0.3));\n",
              "      fill: #FFFFFF;\n",
              "    }\n",
              "  </style>\n",
              "\n",
              "      <script>\n",
              "        const buttonEl =\n",
              "          document.querySelector('#df-fba63347-cddf-49ff-9f83-2ed1a16f5073 button.colab-df-convert');\n",
              "        buttonEl.style.display =\n",
              "          google.colab.kernel.accessAllowed ? 'block' : 'none';\n",
              "\n",
              "        async function convertToInteractive(key) {\n",
              "          const element = document.querySelector('#df-fba63347-cddf-49ff-9f83-2ed1a16f5073');\n",
              "          const dataTable =\n",
              "            await google.colab.kernel.invokeFunction('convertToInteractive',\n",
              "                                                     [key], {});\n",
              "          if (!dataTable) return;\n",
              "\n",
              "          const docLinkHtml = 'Like what you see? Visit the ' +\n",
              "            '<a target=\"_blank\" href=https://colab.research.google.com/notebooks/data_table.ipynb>data table notebook</a>'\n",
              "            + ' to learn more about interactive tables.';\n",
              "          element.innerHTML = '';\n",
              "          dataTable['output_type'] = 'display_data';\n",
              "          await google.colab.output.renderOutput(dataTable, element);\n",
              "          const docLink = document.createElement('div');\n",
              "          docLink.innerHTML = docLinkHtml;\n",
              "          element.appendChild(docLink);\n",
              "        }\n",
              "      </script>\n",
              "    </div>\n",
              "  </div>\n",
              "  "
            ],
            "text/plain": [
              "     name  score  attempts qualify\n",
              "a    Adam   72.5         1     yes\n",
              "b      Jo   59.0         3      no\n",
              "c    Jack   66.5         2     yes\n",
              "d    Hugo    NaN         3      no\n",
              "e    Amit   59.0         2      no\n",
              "f   Messi   80.0         3     yes\n",
              "g  Jordan   84.5         1     yes\n",
              "h   Laura    NaN         1      no\n",
              "i   Kevin   82.0         2      no\n",
              "j   Jonas   49.0         1     yes"
            ]
          },
          "metadata": {},
          "execution_count": 91
        }
      ],
      "source": [
        "import numpy as np\n",
        "import pandas as pd\n",
        "exam_data  = {'name': ['Adam', 'Jo', 'Jack', 'Hugo', 'Amit', 'Messi', 'Jordan', 'Laura', 'Kevin', 'Jonas'],\n",
        "        'score': [72.5, 59, 66.5, np.nan, 59, 80, 84.5, np.nan, 82, 49],\n",
        "        'attempts': [1, 3, 2, 3, 2, 3, 1, 1, 2, 1],\n",
        "        'qualify': ['yes', 'no', 'yes', 'no', 'no', 'yes', 'yes', 'no', 'no', 'yes']}\n",
        "labels = ['a', 'b', 'c', 'd', 'e', 'f', 'g', 'h', 'i', 'j']\n",
        "df = pd.DataFrame(exam_data , index=labels)\n",
        "df"
      ]
    },
    {
      "cell_type": "markdown",
      "metadata": {
        "id": "-3GT0F_r58Le"
      },
      "source": [
        "---\n",
        "## Question 4:\n",
        "\n",
        "Write a Pandas program to display students names, where number of attempts in the examination is greater than 2 and score less than 80."
      ]
    },
    {
      "cell_type": "code",
      "execution_count": 105,
      "metadata": {
        "deletable": false,
        "nbgrader": {
          "cell_type": "code",
          "checksum": "9b28c77b558ad9f5336dedeaf918a99c",
          "grade": false,
          "grade_id": "filter_1_ans",
          "locked": false,
          "schema_version": 3,
          "solution": true,
          "task": false
        },
        "id": "h78RI0S_58Le"
      },
      "outputs": [],
      "source": [
        "import pandas as pd\n",
        "def filter_1():\n",
        " #   \"\"\"Write a Pandas program to display students names, where number of attempts \n",
        " #   in the examination is greater than 2 and score less than 80.\"\"\"\n",
        "    \n",
        "    # YOUR CODE HERE\n",
        "  df1 = (df[(df['attempts'] > 2) & (df['score'] < 80)])\n",
        "  df2 = df1.to_numpy()\n",
        "  return df2\n",
        "  raise NotImplementedError()"
      ]
    },
    {
      "cell_type": "code",
      "execution_count": 106,
      "metadata": {
        "deletable": false,
        "editable": false,
        "nbgrader": {
          "cell_type": "code",
          "checksum": "632927fdb6e4d86741cfc3d8c5d246ed",
          "grade": true,
          "grade_id": "filter_1_test",
          "locked": true,
          "points": 1,
          "schema_version": 3,
          "solution": false,
          "task": false
        },
        "id": "D1Jj952758Le",
        "outputId": "60817e59-0e6f-4723-90b0-40d446d9a084",
        "colab": {
          "base_uri": "https://localhost:8080/",
          "height": 183
        }
      },
      "outputs": [
        {
          "output_type": "error",
          "ename": "ValueError",
          "evalue": "ignored",
          "traceback": [
            "\u001b[0;31m---------------------------------------------------------------------------\u001b[0m",
            "\u001b[0;31mValueError\u001b[0m                                Traceback (most recent call last)",
            "\u001b[0;32m<ipython-input-106-8a4d9d78014c>\u001b[0m in \u001b[0;36m<module>\u001b[0;34m()\u001b[0m\n\u001b[1;32m      1\u001b[0m \u001b[0;34m\"\"\"Check your output\"\"\"\u001b[0m\u001b[0;34m\u001b[0m\u001b[0;34m\u001b[0m\u001b[0m\n\u001b[0;32m----> 2\u001b[0;31m \u001b[0;32massert\u001b[0m \u001b[0mfilter_1\u001b[0m\u001b[0;34m(\u001b[0m\u001b[0;34m)\u001b[0m \u001b[0;34m==\u001b[0m \u001b[0;34m[\u001b[0m\u001b[0;34m'Jo'\u001b[0m\u001b[0;34m]\u001b[0m\u001b[0;34m\u001b[0m\u001b[0;34m\u001b[0m\u001b[0m\n\u001b[0m",
            "\u001b[0;31mValueError\u001b[0m: The truth value of an array with more than one element is ambiguous. Use a.any() or a.all()"
          ]
        }
      ],
      "source": [
        "\"\"\"Check your output\"\"\"\n",
        "assert filter_1() == ['Jo']"
      ]
    },
    {
      "cell_type": "markdown",
      "metadata": {
        "id": "k5z9i3Do58Le"
      },
      "source": [
        "## Question 5\n",
        "\n",
        "Write a Pandas program to display the average score. `Hint`: Please replace `NaN` values with `0` before calcualting average. "
      ]
    },
    {
      "cell_type": "code",
      "execution_count": null,
      "metadata": {
        "deletable": false,
        "nbgrader": {
          "cell_type": "code",
          "checksum": "4bfeab64b5a75bc462c9c752772392fe",
          "grade": false,
          "grade_id": "score_ans",
          "locked": false,
          "schema_version": 3,
          "solution": true,
          "task": false
        },
        "id": "sKXuoXfT58Le"
      },
      "outputs": [],
      "source": [
        "import itertools\n",
        "def score():\n",
        "    \"\"\"Write a Python program to calculate average score and replace NaN values by 0\"\"\"\n",
        "    # YOUR CODE HERE\n",
        "    raise NotImplementedError()"
      ]
    },
    {
      "cell_type": "code",
      "execution_count": null,
      "metadata": {
        "deletable": false,
        "editable": false,
        "nbgrader": {
          "cell_type": "code",
          "checksum": "56b75c407f29411625f44176344ebb3a",
          "grade": true,
          "grade_id": "score_test",
          "locked": true,
          "points": 1,
          "schema_version": 3,
          "solution": false,
          "task": false
        },
        "id": "vrlokJak58Lf"
      },
      "outputs": [],
      "source": [
        "\"\"\"Check your output\"\"\"\n",
        "assert score() == 55.250000"
      ]
    },
    {
      "cell_type": "markdown",
      "metadata": {
        "id": "bZCBFQ0T58Lf"
      },
      "source": [
        "---\n",
        "## Question 6:\n",
        "\n",
        "\n",
        "Write a function to calculate the `mean` and `standard deviation` of the examination `attempts`. `Hint`: You can use NumPy aggregate functions and return as a values. Create a list and append value to it and return the output."
      ]
    },
    {
      "cell_type": "code",
      "execution_count": null,
      "metadata": {
        "deletable": false,
        "nbgrader": {
          "cell_type": "code",
          "checksum": "a658c2020824dbf3a48058b1160431a3",
          "grade": false,
          "grade_id": "stats_ans",
          "locked": false,
          "schema_version": 3,
          "solution": true,
          "task": false
        },
        "id": "yuS4InUe58Lf"
      },
      "outputs": [],
      "source": [
        "def stats():\n",
        "    \"\"\"Write a Pandas program to calculate `mean` and `standard deviation` of the examination\n",
        "    attempts by the students.\"\"\"\n",
        "    # YOUR CODE HERE\n",
        "    raise NotImplementedError()"
      ]
    },
    {
      "cell_type": "code",
      "execution_count": null,
      "metadata": {
        "deletable": false,
        "editable": false,
        "nbgrader": {
          "cell_type": "code",
          "checksum": "a3f21f0e86babfc209bb047557e93f74",
          "grade": true,
          "grade_id": "stats_test",
          "locked": true,
          "points": 1,
          "schema_version": 3,
          "solution": false,
          "task": false
        },
        "id": "NELnhCzk58Lf"
      },
      "outputs": [],
      "source": [
        "\"\"\"Check your output\"\"\"\n",
        "# Test case\n",
        "output = np.array([1.9, 0.8755950357709131])\n",
        "np.allclose(stats(), output)\n"
      ]
    }
  ],
  "metadata": {
    "kernelspec": {
      "display_name": "Python 3",
      "language": "python",
      "name": "python3"
    },
    "language_info": {
      "codemirror_mode": {
        "name": "ipython",
        "version": 3
      },
      "file_extension": ".py",
      "mimetype": "text/x-python",
      "name": "python",
      "nbconvert_exporter": "python",
      "pygments_lexer": "ipython3",
      "version": "3.7.10"
    },
    "colab": {
      "name": "problem1.ipynb",
      "provenance": []
    }
  },
  "nbformat": 4,
  "nbformat_minor": 0
}