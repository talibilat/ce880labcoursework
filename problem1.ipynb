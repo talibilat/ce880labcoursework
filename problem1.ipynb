{
  "cells": [
    {
      "cell_type": "markdown",
      "metadata": {
        "id": "view-in-github",
        "colab_type": "text"
      },
      "source": [
        "<a href=\"https://colab.research.google.com/github/talibilat/ce880labcoursework/blob/main/problem1.ipynb\" target=\"_parent\"><img src=\"https://colab.research.google.com/assets/colab-badge.svg\" alt=\"Open In Colab\"/></a>"
      ]
    },
    {
      "cell_type": "markdown",
      "metadata": {
        "id": "ImddiQ6zsl00"
      },
      "source": [
        "Before you turn this problem in, make sure everything runs as expected. First, **restart the kernel** (in the menubar, select Kernel$\\rightarrow$Restart) and then **run all cells** (in the menubar, select Cell$\\rightarrow$Run All).\n",
        "\n",
        "Make sure you fill in any place that says `YOUR CODE HERE` or \"YOUR ANSWER HERE\", as well as your name and collaborators below:"
      ]
    },
    {
      "cell_type": "code",
      "execution_count": null,
      "metadata": {
        "id": "31nYX9-Ssl06"
      },
      "outputs": [],
      "source": [
        "NAME = \"MOHAMMED TALIB\"\n",
        "COLLABORATORS = \"20132706\""
      ]
    },
    {
      "cell_type": "markdown",
      "metadata": {
        "id": "DXg5ODfusl08"
      },
      "source": [
        "---"
      ]
    },
    {
      "cell_type": "markdown",
      "metadata": {
        "id": "VFruF10Vsl09"
      },
      "source": [
        "---\n",
        "# Welcome to CE880\n",
        "### This is your week-9 : Problem notebook\n",
        "\n",
        "For this problem set, we'll be using the Jupyter notebook and please upload this notebook to [Google Colab](https://colab.research.google.com/). \n",
        "\n",
        "Paris Housing is a set of data created from imaginary data of house prices in an urban environment. \n",
        "https://github.com/sagihaider/CE880_2021/blob/main/Data/ParisHousingClass.csv \n",
        "\n",
        "All attributes are numeric variables and they are listed bellow:\n",
        "* squareMeters\n",
        "* numberOfRooms\n",
        "* hasYard\n",
        "* hasPool\n",
        "* floors - number of floors\n",
        "* cityCode - zip code\n",
        "* cityPartRange - the higher the range, the more exclusive the neighbourhood is\n",
        "* numPrevOwners - number of prevoious owners\n",
        "* made - year\n",
        "* isNewBuilt\n",
        "* hasStormProtector\n",
        "* basement - basement square meters\n",
        "* attic - attic square meteres\n",
        "* garage - garage size\n",
        "* hasStorageRoom\n",
        "* hasGuestRoom - number of guest rooms\n",
        "* price - price of a house\n",
        "* category - Luxury or Basic"
      ]
    },
    {
      "cell_type": "code",
      "execution_count": 1,
      "metadata": {
        "id": "eztULMt6sl09"
      },
      "outputs": [],
      "source": [
        "import numpy as np \n",
        "import pandas as pd \n",
        "url = 'https://raw.githubusercontent.com/sagihaider/CE880_2021/main/Data/ParisHousingClass.csv'\n",
        "trainData = pd.read_csv(url,index_col=0)\n",
        "# print(trainData.head())"
      ]
    },
    {
      "cell_type": "code",
      "execution_count": 8,
      "metadata": {
        "colab": {
          "base_uri": "https://localhost:8080/"
        },
        "id": "PBX5gWZmsl0-",
        "outputId": "2a47712d-a76f-4d73-9f96-0b1cf5c6ca3a"
      },
      "outputs": [
        {
          "output_type": "stream",
          "name": "stdout",
          "text": [
            "category [0 1]\n"
          ]
        }
      ],
      "source": [
        "from sklearn.preprocessing import LabelEncoder\n",
        "from sklearn.ensemble import RandomForestClassifier\n",
        "from sklearn.metrics import accuracy_score\n",
        "from sklearn.neighbors import KNeighborsClassifier\n",
        "from sklearn.tree import DecisionTreeClassifier\n",
        "from sklearn import svm\n",
        "\n",
        "def label_encoded(feat):\n",
        "    le=LabelEncoder()\n",
        "    le.fit(feat)\n",
        "    print(feat.name,le.classes_)\n",
        "    return le.transform(feat)\n",
        "trainData['category']=label_encoded(trainData['category'])"
      ]
    },
    {
      "cell_type": "code",
      "execution_count": 9,
      "metadata": {
        "id": "JAfkoVOUsl0_"
      },
      "outputs": [],
      "source": [
        "from sklearn.model_selection import train_test_split,GridSearchCV\n",
        "\n",
        "y=trainData['category']\n",
        "x=trainData.drop('category',axis=1)\n",
        "xtrain,xtest,ytrain,ytest=train_test_split(x,y,test_size=0.2,random_state=42)"
      ]
    },
    {
      "cell_type": "markdown",
      "metadata": {
        "id": "S4-g5yVVsl1A"
      },
      "source": [
        "---\n",
        "## Question 1: \n",
        "\n",
        "#### Classification\n",
        "Use the `Paris Housing` dataset, which we have laoded and spilted into `training` and `test` sets (`xtrain`, `xtest`, `ytrain`, `ytest`). Your job is to train the machine learning classificaiton model to get the test accuracy of 100%. You are free to use any classication model such as Decision Tree, Random Forest, KNN, SVM. I would recommend using Grid Search Algorithm to find a best set of hyper-parameters and add that training algorithm to the `my_model` function below. \n",
        "You are also free to use any data vislusation methods to understand the varaibles. Trying implementing feature importance and pass as minimum variables as possible to train your classifier. This is not mandaroty and totally upto you. \n",
        "\n"
      ]
    },
    {
      "cell_type": "code",
      "execution_count": 28,
      "metadata": {
        "deletable": false,
        "nbgrader": {
          "cell_type": "code",
          "checksum": "0237824374ad8c7903120c070b88bb58",
          "grade": false,
          "grade_id": "my_model_ans",
          "locked": false,
          "schema_version": 3,
          "solution": true,
          "task": false
        },
        "colab": {
          "base_uri": "https://localhost:8080/"
        },
        "id": "nGxBWEnRsl1A",
        "outputId": "91453108-8dab-4cf2-ec33-cc556684a7a6"
      },
      "outputs": [
        {
          "output_type": "stream",
          "name": "stdout",
          "text": [
            "RandomForestClassifier(max_features=5, n_estimators=10)\n",
            "100.0\n"
          ]
        },
        {
          "output_type": "execute_result",
          "data": {
            "text/plain": [
              "100.0"
            ]
          },
          "metadata": {},
          "execution_count": 28
        }
      ],
      "source": [
        "\n",
        "def my_model(xtrain,xtest,ytrain,ytest):\n",
        "    \"\"\"Write a function to train a machine learning model to get the test accuracy of 100%. \n",
        "    You are free to use any classication model such as Decision Tree, \n",
        "    Random Forest, KNN, SVM..etc. \"\"\"\n",
        "    \n",
        "    \n",
        "    # YOUR CODE HERE\n",
        "    model =RandomForestClassifier()\n",
        "    grid ={\"n_estimators\": [10,20,30], \"max_features\" : [5,7,9], \"min_samples_split\" : [2,3,5,7,10]}            \n",
        "    grid = GridSearchCV(model, grid,n_jobs = -1, cv = 5, scoring = 'accuracy')\n",
        "    grid.fit(xtrain, ytrain)\n",
        "    best_model= grid.best_estimator_\n",
        "    print(grid.best_estimator_)\n",
        "    accuracy = accuracy_score(ytest, best_model.predict(xtest))                       \n",
        "    print(accuracy*100)\n",
        "    return accuracy*100\n",
        "    raise NotImplementedError()\n",
        "\n",
        "my_model(xtrain,xtest,ytrain,ytest)"
      ]
    },
    {
      "cell_type": "code",
      "execution_count": 29,
      "metadata": {
        "deletable": false,
        "editable": false,
        "nbgrader": {
          "cell_type": "code",
          "checksum": "b15a8a354453f7e99cb9fa5a6cb0b977",
          "grade": true,
          "grade_id": "my_model_test",
          "locked": true,
          "points": 9,
          "schema_version": 3,
          "solution": false,
          "task": false
        },
        "colab": {
          "base_uri": "https://localhost:8080/"
        },
        "id": "y8kBj7Ozsl1B",
        "outputId": "4d56d445-9877-4e48-ff06-9ada45c45c44"
      },
      "outputs": [
        {
          "output_type": "stream",
          "name": "stdout",
          "text": [
            "RandomForestClassifier(max_features=5, n_estimators=10)\n",
            "100.0\n"
          ]
        }
      ],
      "source": [
        "# Check you solution by running this cell\n",
        "import math\n",
        "assert math.isclose(my_model(xtrain,xtest,ytrain,ytest), 100.0, rel_tol = 0.05)"
      ]
    },
    {
      "cell_type": "code",
      "execution_count": null,
      "metadata": {
        "id": "AKwHhprVsl1B"
      },
      "outputs": [],
      "source": [
        "  "
      ]
    }
  ],
  "metadata": {
    "kernelspec": {
      "display_name": "Python 3",
      "language": "python",
      "name": "python3"
    },
    "language_info": {
      "codemirror_mode": {
        "name": "ipython",
        "version": 3
      },
      "file_extension": ".py",
      "mimetype": "text/x-python",
      "name": "python",
      "nbconvert_exporter": "python",
      "pygments_lexer": "ipython3",
      "version": "3.7.11"
    },
    "colab": {
      "name": "problem1.ipynb",
      "provenance": [],
      "include_colab_link": true
    }
  },
  "nbformat": 4,
  "nbformat_minor": 0
}